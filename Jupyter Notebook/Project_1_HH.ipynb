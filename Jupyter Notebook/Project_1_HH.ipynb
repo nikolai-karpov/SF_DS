{
  "cells": [
    {
      "cell_type": "markdown",
      "id": "42289889-bd57-434e-9637-d3e354756316",
      "metadata": {
        "id": "42289889-bd57-434e-9637-d3e354756316"
      },
      "source": [
        "<center> <img src = https://raw.githubusercontent.com/AndreyRysistov/DatasetsForPandas/main/hh%20label.jpg alt=\"drawing\" style=\"width:400px;\">"
      ]
    },
    {
      "cell_type": "markdown",
      "id": "829cb75b-f14e-4ba8-9195-7ba929a7d656",
      "metadata": {
        "tags": [],
        "id": "829cb75b-f14e-4ba8-9195-7ba929a7d656"
      },
      "source": [
        "# <center> Проект: Анализ вакансий на hh.ru\n",
        "   "
      ]
    },
    {
      "cell_type": "code",
      "execution_count": 1,
      "id": "da38e4cd-37f6-44c6-ad3c-258e8793dad1",
      "metadata": {
        "colab": {
          "base_uri": "https://localhost:8080/"
        },
        "id": "da38e4cd-37f6-44c6-ad3c-258e8793dad1",
        "outputId": "b85638e0-8b20-4a46-d1c9-9e8c05122a1b"
      },
      "outputs": [
        {
          "output_type": "execute_result",
          "data": {
            "text/plain": [
              "[8, 9, 10]"
            ]
          },
          "metadata": {},
          "execution_count": 1
        }
      ],
      "source": [
        "clients = [8, 4, 9, 6, 7, 1, 6, 8, 9, 10]\n",
        "def CSI_sort(clients):\n",
        "    new_list = sorted(clients)\n",
        "    max_grade = []\n",
        "    for elem in new_list:\n",
        "        if elem not in max_grade:\n",
        "            max_grade.append(elem)\n",
        "    return max_grade[-3:]\n",
        "CSI_sort(clients)"
      ]
    },
    {
      "cell_type": "code",
      "execution_count": 2,
      "id": "dccfde33-2452-43fb-a8a5-5c6ebc02a71d",
      "metadata": {
        "id": "dccfde33-2452-43fb-a8a5-5c6ebc02a71d"
      },
      "outputs": [],
      "source": [
        "import pandas as pd\n",
        "import numpy as np\n",
        "\n",
        "import matplotlib.pyplot as plt\n",
        "#%matplotlib inline\n",
        "import seaborn as sns\n",
        "\n",
        "import plotly.express as px\n",
        "import plotly.graph_objects as go\n",
        "import plotly.figure_factory as ff\n",
        "\n",
        "# Параметры общего стиля\n",
        "#sns.set_style(\"whitegrid\")\n",
        "colors = sns.color_palette(\"pastel\")\n",
        "figsize = (6, 4)    # Для одного фрейма\n",
        "figsize2 = (12, 4)  # Для двух фреймов\n",
        "figsize3 = (16, 4)  # Для трёх фреймов"
      ]
    },
    {
      "cell_type": "markdown",
      "id": "0dc6476b-7a00-44f1-ac93-6e3baed33a29",
      "metadata": {
        "id": "0dc6476b-7a00-44f1-ac93-6e3baed33a29"
      },
      "source": [
        "# Исследование структуры данных"
      ]
    },
    {
      "cell_type": "markdown",
      "id": "889782b6-8d1c-410e-8920-e57f27917c64",
      "metadata": {
        "id": "889782b6-8d1c-410e-8920-e57f27917c64"
      },
      "source": [
        "1. Прочитайте данные с помощью библиотеки Pandas. Совет: перед чтением обратите внимание на разделитель внутри файла. "
      ]
    },
    {
      "cell_type": "code",
      "execution_count": 3,
      "id": "bc39e68e-ed02-4ee2-9235-7258a2f867a8",
      "metadata": {
        "id": "bc39e68e-ed02-4ee2-9235-7258a2f867a8"
      },
      "outputs": [],
      "source": [
        "#hh_data = pd.read_csv('/content/dst-3.0_16_1_hh_database.csv', sep=';')\n",
        "hh_data = pd.read_csv('https://www.dropbox.com/s/k2qjietbvhdzqqs/dst-3.0_16_1_hh_database.csv?raw=true', sep=';')"
      ]
    },
    {
      "cell_type": "markdown",
      "id": "b583485d-1f9e-494e-ada4-80ffff7c53d6",
      "metadata": {
        "id": "b583485d-1f9e-494e-ada4-80ffff7c53d6"
      },
      "source": [
        "2. Выведите несколько первых (последних) строк таблицы, чтобы убедиться в том, что ваши данные не повреждены. Ознакомьтесь с признаками и их структурой."
      ]
    },
    {
      "cell_type": "code",
      "execution_count": 4,
      "id": "5408c52c-3407-4a63-b25b-1aafa2322d28",
      "metadata": {
        "colab": {
          "base_uri": "https://localhost:8080/",
          "height": 736
        },
        "id": "5408c52c-3407-4a63-b25b-1aafa2322d28",
        "outputId": "ba808ce2-3ca7-4f9e-845b-e30315502fa1"
      },
      "outputs": [
        {
          "output_type": "display_data",
          "data": {
            "text/html": [
              "\n",
              "  <div id=\"df-f36cb518-e310-4fa2-b61d-9a0e88f38521\">\n",
              "    <div class=\"colab-df-container\">\n",
              "      <div>\n",
              "<style scoped>\n",
              "    .dataframe tbody tr th:only-of-type {\n",
              "        vertical-align: middle;\n",
              "    }\n",
              "\n",
              "    .dataframe tbody tr th {\n",
              "        vertical-align: top;\n",
              "    }\n",
              "\n",
              "    .dataframe thead th {\n",
              "        text-align: right;\n",
              "    }\n",
              "</style>\n",
              "<table border=\"1\" class=\"dataframe\">\n",
              "  <thead>\n",
              "    <tr style=\"text-align: right;\">\n",
              "      <th></th>\n",
              "      <th>Пол, возраст</th>\n",
              "      <th>ЗП</th>\n",
              "      <th>Ищет работу на должность:</th>\n",
              "      <th>Город, переезд, командировки</th>\n",
              "      <th>Занятость</th>\n",
              "      <th>График</th>\n",
              "      <th>Опыт работы</th>\n",
              "      <th>Последнее/нынешнее место работы</th>\n",
              "      <th>Последняя/нынешняя должность</th>\n",
              "      <th>Образование и ВУЗ</th>\n",
              "      <th>Обновление резюме</th>\n",
              "      <th>Авто</th>\n",
              "    </tr>\n",
              "  </thead>\n",
              "  <tbody>\n",
              "    <tr>\n",
              "      <th>0</th>\n",
              "      <td>Мужчина ,  39 лет , родился 27 ноября 1979</td>\n",
              "      <td>29000 руб.</td>\n",
              "      <td>Системный администратор</td>\n",
              "      <td>Советск (Калининградская область) , не готов к...</td>\n",
              "      <td>частичная занятость, проектная работа, полная ...</td>\n",
              "      <td>гибкий график, полный день, сменный график, ва...</td>\n",
              "      <td>Опыт работы 16 лет 10 месяцев  Август 2010 — п...</td>\n",
              "      <td>МАОУ \"СОШ № 1 г.Немана\"</td>\n",
              "      <td>Системный администратор</td>\n",
              "      <td>Неоконченное высшее образование 2000  Балтийск...</td>\n",
              "      <td>16.04.2019 15:59</td>\n",
              "      <td>Имеется собственный автомобиль</td>\n",
              "    </tr>\n",
              "    <tr>\n",
              "      <th>1</th>\n",
              "      <td>Мужчина ,  60 лет , родился 20 марта 1959</td>\n",
              "      <td>40000 руб.</td>\n",
              "      <td>Технический писатель</td>\n",
              "      <td>Королев , не готов к переезду , готов к редким...</td>\n",
              "      <td>частичная занятость, проектная работа, полная ...</td>\n",
              "      <td>гибкий график, полный день, сменный график, уд...</td>\n",
              "      <td>Опыт работы 19 лет 5 месяцев  Январь 2000 — по...</td>\n",
              "      <td>Временный трудовой коллектив</td>\n",
              "      <td>Менеджер проекта, Аналитик, Технический писатель</td>\n",
              "      <td>Высшее образование 1981  Военно-космическая ак...</td>\n",
              "      <td>12.04.2019 08:42</td>\n",
              "      <td>Не указано</td>\n",
              "    </tr>\n",
              "    <tr>\n",
              "      <th>2</th>\n",
              "      <td>Женщина ,  36 лет , родилась 12 августа 1982</td>\n",
              "      <td>20000 руб.</td>\n",
              "      <td>Оператор</td>\n",
              "      <td>Тверь , не готова к переезду , не готова к ком...</td>\n",
              "      <td>полная занятость</td>\n",
              "      <td>полный день</td>\n",
              "      <td>Опыт работы 10 лет 3 месяца  Октябрь 2004 — Де...</td>\n",
              "      <td>ПАО Сбербанк</td>\n",
              "      <td>Кассир-операционист</td>\n",
              "      <td>Среднее специальное образование 2002 Профессио...</td>\n",
              "      <td>16.04.2019 08:35</td>\n",
              "      <td>Не указано</td>\n",
              "    </tr>\n",
              "    <tr>\n",
              "      <th>3</th>\n",
              "      <td>Мужчина ,  38 лет , родился 25 июня 1980</td>\n",
              "      <td>100000 руб.</td>\n",
              "      <td>Веб-разработчик (HTML / CSS / JS / PHP / базы ...</td>\n",
              "      <td>Саратов , не готов к переезду , готов к редким...</td>\n",
              "      <td>частичная занятость, проектная работа, полная ...</td>\n",
              "      <td>гибкий график, удаленная работа</td>\n",
              "      <td>Опыт работы 18 лет 9 месяцев  Август 2017 — Ап...</td>\n",
              "      <td>OpenSoft</td>\n",
              "      <td>Инженер-программист</td>\n",
              "      <td>Высшее образование 2002  Саратовский государст...</td>\n",
              "      <td>08.04.2019 14:23</td>\n",
              "      <td>Не указано</td>\n",
              "    </tr>\n",
              "    <tr>\n",
              "      <th>4</th>\n",
              "      <td>Женщина ,  26 лет , родилась 3 марта 1993</td>\n",
              "      <td>140000 руб.</td>\n",
              "      <td>Региональный менеджер по продажам</td>\n",
              "      <td>Москва , не готова к переезду , готова к коман...</td>\n",
              "      <td>полная занятость</td>\n",
              "      <td>полный день</td>\n",
              "      <td>Опыт работы 5 лет 7 месяцев  Региональный мене...</td>\n",
              "      <td>Мармелад</td>\n",
              "      <td>Менеджер по продажам</td>\n",
              "      <td>Высшее образование 2015 Кгу Психологии и педаг...</td>\n",
              "      <td>22.04.2019 10:32</td>\n",
              "      <td>Не указано</td>\n",
              "    </tr>\n",
              "  </tbody>\n",
              "</table>\n",
              "</div>\n",
              "      <button class=\"colab-df-convert\" onclick=\"convertToInteractive('df-f36cb518-e310-4fa2-b61d-9a0e88f38521')\"\n",
              "              title=\"Convert this dataframe to an interactive table.\"\n",
              "              style=\"display:none;\">\n",
              "        \n",
              "  <svg xmlns=\"http://www.w3.org/2000/svg\" height=\"24px\"viewBox=\"0 0 24 24\"\n",
              "       width=\"24px\">\n",
              "    <path d=\"M0 0h24v24H0V0z\" fill=\"none\"/>\n",
              "    <path d=\"M18.56 5.44l.94 2.06.94-2.06 2.06-.94-2.06-.94-.94-2.06-.94 2.06-2.06.94zm-11 1L8.5 8.5l.94-2.06 2.06-.94-2.06-.94L8.5 2.5l-.94 2.06-2.06.94zm10 10l.94 2.06.94-2.06 2.06-.94-2.06-.94-.94-2.06-.94 2.06-2.06.94z\"/><path d=\"M17.41 7.96l-1.37-1.37c-.4-.4-.92-.59-1.43-.59-.52 0-1.04.2-1.43.59L10.3 9.45l-7.72 7.72c-.78.78-.78 2.05 0 2.83L4 21.41c.39.39.9.59 1.41.59.51 0 1.02-.2 1.41-.59l7.78-7.78 2.81-2.81c.8-.78.8-2.07 0-2.86zM5.41 20L4 18.59l7.72-7.72 1.47 1.35L5.41 20z\"/>\n",
              "  </svg>\n",
              "      </button>\n",
              "      \n",
              "  <style>\n",
              "    .colab-df-container {\n",
              "      display:flex;\n",
              "      flex-wrap:wrap;\n",
              "      gap: 12px;\n",
              "    }\n",
              "\n",
              "    .colab-df-convert {\n",
              "      background-color: #E8F0FE;\n",
              "      border: none;\n",
              "      border-radius: 50%;\n",
              "      cursor: pointer;\n",
              "      display: none;\n",
              "      fill: #1967D2;\n",
              "      height: 32px;\n",
              "      padding: 0 0 0 0;\n",
              "      width: 32px;\n",
              "    }\n",
              "\n",
              "    .colab-df-convert:hover {\n",
              "      background-color: #E2EBFA;\n",
              "      box-shadow: 0px 1px 2px rgba(60, 64, 67, 0.3), 0px 1px 3px 1px rgba(60, 64, 67, 0.15);\n",
              "      fill: #174EA6;\n",
              "    }\n",
              "\n",
              "    [theme=dark] .colab-df-convert {\n",
              "      background-color: #3B4455;\n",
              "      fill: #D2E3FC;\n",
              "    }\n",
              "\n",
              "    [theme=dark] .colab-df-convert:hover {\n",
              "      background-color: #434B5C;\n",
              "      box-shadow: 0px 1px 3px 1px rgba(0, 0, 0, 0.15);\n",
              "      filter: drop-shadow(0px 1px 2px rgba(0, 0, 0, 0.3));\n",
              "      fill: #FFFFFF;\n",
              "    }\n",
              "  </style>\n",
              "\n",
              "      <script>\n",
              "        const buttonEl =\n",
              "          document.querySelector('#df-f36cb518-e310-4fa2-b61d-9a0e88f38521 button.colab-df-convert');\n",
              "        buttonEl.style.display =\n",
              "          google.colab.kernel.accessAllowed ? 'block' : 'none';\n",
              "\n",
              "        async function convertToInteractive(key) {\n",
              "          const element = document.querySelector('#df-f36cb518-e310-4fa2-b61d-9a0e88f38521');\n",
              "          const dataTable =\n",
              "            await google.colab.kernel.invokeFunction('convertToInteractive',\n",
              "                                                     [key], {});\n",
              "          if (!dataTable) return;\n",
              "\n",
              "          const docLinkHtml = 'Like what you see? Visit the ' +\n",
              "            '<a target=\"_blank\" href=https://colab.research.google.com/notebooks/data_table.ipynb>data table notebook</a>'\n",
              "            + ' to learn more about interactive tables.';\n",
              "          element.innerHTML = '';\n",
              "          dataTable['output_type'] = 'display_data';\n",
              "          await google.colab.output.renderOutput(dataTable, element);\n",
              "          const docLink = document.createElement('div');\n",
              "          docLink.innerHTML = docLinkHtml;\n",
              "          element.appendChild(docLink);\n",
              "        }\n",
              "      </script>\n",
              "    </div>\n",
              "  </div>\n",
              "  "
            ],
            "text/plain": [
              "                                   Пол, возраст  ...                            Авто\n",
              "0    Мужчина ,  39 лет , родился 27 ноября 1979  ...  Имеется собственный автомобиль\n",
              "1     Мужчина ,  60 лет , родился 20 марта 1959  ...                      Не указано\n",
              "2  Женщина ,  36 лет , родилась 12 августа 1982  ...                      Не указано\n",
              "3      Мужчина ,  38 лет , родился 25 июня 1980  ...                      Не указано\n",
              "4     Женщина ,  26 лет , родилась 3 марта 1993  ...                      Не указано\n",
              "\n",
              "[5 rows x 12 columns]"
            ]
          },
          "metadata": {}
        }
      ],
      "source": [
        "display(hh_data.head())"
      ]
    },
    {
      "cell_type": "markdown",
      "id": "a2bfff1f-c975-4bf6-84be-2185d79dcb76",
      "metadata": {
        "id": "a2bfff1f-c975-4bf6-84be-2185d79dcb76"
      },
      "source": [
        "3. Выведите основную информацию о числе непустых значений в столбцах и их типах в таблице."
      ]
    },
    {
      "cell_type": "markdown",
      "id": "41bb59f3-53cc-4a67-a5bc-bedf573955e4",
      "metadata": {
        "id": "41bb59f3-53cc-4a67-a5bc-bedf573955e4"
      },
      "source": [
        "4. Обратите внимание на информацию о числе непустых значений."
      ]
    },
    {
      "cell_type": "code",
      "execution_count": 5,
      "id": "d286cf4c-707b-4cd2-9190-7ab3587d04a1",
      "metadata": {
        "colab": {
          "base_uri": "https://localhost:8080/"
        },
        "id": "d286cf4c-707b-4cd2-9190-7ab3587d04a1",
        "outputId": "01d62486-103a-4de6-a081-4d31c4c60b05"
      },
      "outputs": [
        {
          "output_type": "stream",
          "name": "stdout",
          "text": [
            "<class 'pandas.core.frame.DataFrame'>\n",
            "RangeIndex: 44744 entries, 0 to 44743\n",
            "Data columns (total 12 columns):\n",
            " #   Column                           Non-Null Count  Dtype \n",
            "---  ------                           --------------  ----- \n",
            " 0   Пол, возраст                     44744 non-null  object\n",
            " 1   ЗП                               44744 non-null  object\n",
            " 2   Ищет работу на должность:        44744 non-null  object\n",
            " 3   Город, переезд, командировки     44744 non-null  object\n",
            " 4   Занятость                        44744 non-null  object\n",
            " 5   График                           44744 non-null  object\n",
            " 6   Опыт работы                      44576 non-null  object\n",
            " 7   Последнее/нынешнее место работы  44743 non-null  object\n",
            " 8   Последняя/нынешняя должность     44742 non-null  object\n",
            " 9   Образование и ВУЗ                44744 non-null  object\n",
            " 10  Обновление резюме                44744 non-null  object\n",
            " 11  Авто                             44744 non-null  object\n",
            "dtypes: object(12)\n",
            "memory usage: 4.1+ MB\n"
          ]
        }
      ],
      "source": [
        "hh_data.info()\n"
      ]
    },
    {
      "cell_type": "markdown",
      "id": "9a8a2181-6914-448b-85f1-38f5f18b8a93",
      "metadata": {
        "id": "9a8a2181-6914-448b-85f1-38f5f18b8a93"
      },
      "source": [
        "5. Выведите основную статистическую информацию о столбцах.\n"
      ]
    },
    {
      "cell_type": "code",
      "execution_count": 6,
      "id": "be4e9bd3-a4db-4a20-82fb-6b02fc2957e0",
      "metadata": {
        "colab": {
          "base_uri": "https://localhost:8080/",
          "height": 358
        },
        "id": "be4e9bd3-a4db-4a20-82fb-6b02fc2957e0",
        "outputId": "a3157a54-a5b5-490a-f1d3-106200f21863"
      },
      "outputs": [
        {
          "output_type": "execute_result",
          "data": {
            "text/html": [
              "\n",
              "  <div id=\"df-205aa733-ff10-4f0a-a106-037253e20b0e\">\n",
              "    <div class=\"colab-df-container\">\n",
              "      <div>\n",
              "<style scoped>\n",
              "    .dataframe tbody tr th:only-of-type {\n",
              "        vertical-align: middle;\n",
              "    }\n",
              "\n",
              "    .dataframe tbody tr th {\n",
              "        vertical-align: top;\n",
              "    }\n",
              "\n",
              "    .dataframe thead th {\n",
              "        text-align: right;\n",
              "    }\n",
              "</style>\n",
              "<table border=\"1\" class=\"dataframe\">\n",
              "  <thead>\n",
              "    <tr style=\"text-align: right;\">\n",
              "      <th></th>\n",
              "      <th>Пол, возраст</th>\n",
              "      <th>ЗП</th>\n",
              "      <th>Ищет работу на должность:</th>\n",
              "      <th>Город, переезд, командировки</th>\n",
              "      <th>Занятость</th>\n",
              "      <th>График</th>\n",
              "      <th>Опыт работы</th>\n",
              "      <th>Последнее/нынешнее место работы</th>\n",
              "      <th>Последняя/нынешняя должность</th>\n",
              "      <th>Образование и ВУЗ</th>\n",
              "      <th>Обновление резюме</th>\n",
              "      <th>Авто</th>\n",
              "    </tr>\n",
              "  </thead>\n",
              "  <tbody>\n",
              "    <tr>\n",
              "      <th>count</th>\n",
              "      <td>44744</td>\n",
              "      <td>44744</td>\n",
              "      <td>44744</td>\n",
              "      <td>44744</td>\n",
              "      <td>44744</td>\n",
              "      <td>44744</td>\n",
              "      <td>44576</td>\n",
              "      <td>44743</td>\n",
              "      <td>44742</td>\n",
              "      <td>44744</td>\n",
              "      <td>44744</td>\n",
              "      <td>44744</td>\n",
              "    </tr>\n",
              "    <tr>\n",
              "      <th>unique</th>\n",
              "      <td>16003</td>\n",
              "      <td>690</td>\n",
              "      <td>14929</td>\n",
              "      <td>10063</td>\n",
              "      <td>38</td>\n",
              "      <td>47</td>\n",
              "      <td>44413</td>\n",
              "      <td>30214</td>\n",
              "      <td>16927</td>\n",
              "      <td>40148</td>\n",
              "      <td>18838</td>\n",
              "      <td>2</td>\n",
              "    </tr>\n",
              "    <tr>\n",
              "      <th>top</th>\n",
              "      <td>Мужчина ,  32 года , родился 17 сентября 1986</td>\n",
              "      <td>50000 руб.</td>\n",
              "      <td>Системный администратор</td>\n",
              "      <td>Москва , не готов к переезду , не готов к кома...</td>\n",
              "      <td>полная занятость</td>\n",
              "      <td>полный день</td>\n",
              "      <td>Опыт работы 10 лет 8 месяцев  Апрель 2018 — по...</td>\n",
              "      <td>Индивидуальное предпринимательство / частная п...</td>\n",
              "      <td>Системный администратор</td>\n",
              "      <td>Высшее образование 1987 Военный инженерный Кра...</td>\n",
              "      <td>07.05.2019 09:50</td>\n",
              "      <td>Не указано</td>\n",
              "    </tr>\n",
              "    <tr>\n",
              "      <th>freq</th>\n",
              "      <td>18</td>\n",
              "      <td>4064</td>\n",
              "      <td>3099</td>\n",
              "      <td>1261</td>\n",
              "      <td>30026</td>\n",
              "      <td>22727</td>\n",
              "      <td>3</td>\n",
              "      <td>935</td>\n",
              "      <td>2062</td>\n",
              "      <td>4</td>\n",
              "      <td>25</td>\n",
              "      <td>32268</td>\n",
              "    </tr>\n",
              "  </tbody>\n",
              "</table>\n",
              "</div>\n",
              "      <button class=\"colab-df-convert\" onclick=\"convertToInteractive('df-205aa733-ff10-4f0a-a106-037253e20b0e')\"\n",
              "              title=\"Convert this dataframe to an interactive table.\"\n",
              "              style=\"display:none;\">\n",
              "        \n",
              "  <svg xmlns=\"http://www.w3.org/2000/svg\" height=\"24px\"viewBox=\"0 0 24 24\"\n",
              "       width=\"24px\">\n",
              "    <path d=\"M0 0h24v24H0V0z\" fill=\"none\"/>\n",
              "    <path d=\"M18.56 5.44l.94 2.06.94-2.06 2.06-.94-2.06-.94-.94-2.06-.94 2.06-2.06.94zm-11 1L8.5 8.5l.94-2.06 2.06-.94-2.06-.94L8.5 2.5l-.94 2.06-2.06.94zm10 10l.94 2.06.94-2.06 2.06-.94-2.06-.94-.94-2.06-.94 2.06-2.06.94z\"/><path d=\"M17.41 7.96l-1.37-1.37c-.4-.4-.92-.59-1.43-.59-.52 0-1.04.2-1.43.59L10.3 9.45l-7.72 7.72c-.78.78-.78 2.05 0 2.83L4 21.41c.39.39.9.59 1.41.59.51 0 1.02-.2 1.41-.59l7.78-7.78 2.81-2.81c.8-.78.8-2.07 0-2.86zM5.41 20L4 18.59l7.72-7.72 1.47 1.35L5.41 20z\"/>\n",
              "  </svg>\n",
              "      </button>\n",
              "      \n",
              "  <style>\n",
              "    .colab-df-container {\n",
              "      display:flex;\n",
              "      flex-wrap:wrap;\n",
              "      gap: 12px;\n",
              "    }\n",
              "\n",
              "    .colab-df-convert {\n",
              "      background-color: #E8F0FE;\n",
              "      border: none;\n",
              "      border-radius: 50%;\n",
              "      cursor: pointer;\n",
              "      display: none;\n",
              "      fill: #1967D2;\n",
              "      height: 32px;\n",
              "      padding: 0 0 0 0;\n",
              "      width: 32px;\n",
              "    }\n",
              "\n",
              "    .colab-df-convert:hover {\n",
              "      background-color: #E2EBFA;\n",
              "      box-shadow: 0px 1px 2px rgba(60, 64, 67, 0.3), 0px 1px 3px 1px rgba(60, 64, 67, 0.15);\n",
              "      fill: #174EA6;\n",
              "    }\n",
              "\n",
              "    [theme=dark] .colab-df-convert {\n",
              "      background-color: #3B4455;\n",
              "      fill: #D2E3FC;\n",
              "    }\n",
              "\n",
              "    [theme=dark] .colab-df-convert:hover {\n",
              "      background-color: #434B5C;\n",
              "      box-shadow: 0px 1px 3px 1px rgba(0, 0, 0, 0.15);\n",
              "      filter: drop-shadow(0px 1px 2px rgba(0, 0, 0, 0.3));\n",
              "      fill: #FFFFFF;\n",
              "    }\n",
              "  </style>\n",
              "\n",
              "      <script>\n",
              "        const buttonEl =\n",
              "          document.querySelector('#df-205aa733-ff10-4f0a-a106-037253e20b0e button.colab-df-convert');\n",
              "        buttonEl.style.display =\n",
              "          google.colab.kernel.accessAllowed ? 'block' : 'none';\n",
              "\n",
              "        async function convertToInteractive(key) {\n",
              "          const element = document.querySelector('#df-205aa733-ff10-4f0a-a106-037253e20b0e');\n",
              "          const dataTable =\n",
              "            await google.colab.kernel.invokeFunction('convertToInteractive',\n",
              "                                                     [key], {});\n",
              "          if (!dataTable) return;\n",
              "\n",
              "          const docLinkHtml = 'Like what you see? Visit the ' +\n",
              "            '<a target=\"_blank\" href=https://colab.research.google.com/notebooks/data_table.ipynb>data table notebook</a>'\n",
              "            + ' to learn more about interactive tables.';\n",
              "          element.innerHTML = '';\n",
              "          dataTable['output_type'] = 'display_data';\n",
              "          await google.colab.output.renderOutput(dataTable, element);\n",
              "          const docLink = document.createElement('div');\n",
              "          docLink.innerHTML = docLinkHtml;\n",
              "          element.appendChild(docLink);\n",
              "        }\n",
              "      </script>\n",
              "    </div>\n",
              "  </div>\n",
              "  "
            ],
            "text/plain": [
              "                                         Пол, возраст  ...        Авто\n",
              "count                                           44744  ...       44744\n",
              "unique                                          16003  ...           2\n",
              "top     Мужчина ,  32 года , родился 17 сентября 1986  ...  Не указано\n",
              "freq                                               18  ...       32268\n",
              "\n",
              "[4 rows x 12 columns]"
            ]
          },
          "metadata": {},
          "execution_count": 6
        }
      ],
      "source": [
        "hh_data.describe()"
      ]
    },
    {
      "cell_type": "markdown",
      "id": "8d62a9f3-f64e-4fe7-bdac-c4dffa16155e",
      "metadata": {
        "id": "8d62a9f3-f64e-4fe7-bdac-c4dffa16155e"
      },
      "source": [
        "# Преобразование данных"
      ]
    },
    {
      "cell_type": "markdown",
      "id": "93053d3d-b284-481a-9cf7-012d7014c0e0",
      "metadata": {
        "id": "93053d3d-b284-481a-9cf7-012d7014c0e0"
      },
      "source": [
        "1. Начнем с простого - с признака **\"Образование и ВУЗ\"**. Его текущий формат это: **<Уровень образования год выпуска ВУЗ специальность...>**. Например:\n",
        "* Высшее образование 2016 Московский авиационный институт (национальный исследовательский университет)...\n",
        "* Неоконченное высшее образование 2000  Балтийская государственная академия рыбопромыслового флота…\n",
        "Нас будет интересовать только уровень образования.\n",
        "\n",
        "Создайте с помощью функции-преобразования новый признак **\"Образование\"**, который должен иметь 4 категории: \"высшее\", \"неоконченное высшее\", \"среднее специальное\" и \"среднее\".\n",
        "\n",
        "Выполните преобразование, ответьте на контрольные вопросы и удалите признак \"Образование и ВУЗ\".\n",
        "\n",
        "Совет: обратите внимание на структуру текста в столбце **\"Образование и ВУЗ\"**. Гарантируется, что текущий уровень образования соискателя всегда находится в первых 2ух слов и начинается с заглавной буквы. Воспользуйтесь этим.\n",
        "\n",
        "*Совет: проверяйте полученные категории, например, с помощью метода unique()*\n"
      ]
    },
    {
      "cell_type": "code",
      "execution_count": 7,
      "id": "3f069da6-fdc9-4ae7-b514-fafe2675efd3",
      "metadata": {
        "colab": {
          "base_uri": "https://localhost:8080/"
        },
        "id": "3f069da6-fdc9-4ae7-b514-fafe2675efd3",
        "outputId": "58cb3f41-23ef-4778-d10f-8a88baa0a2bd"
      },
      "outputs": [
        {
          "output_type": "execute_result",
          "data": {
            "text/plain": [
              "высшее                 33863\n",
              "среднее специальное     5765\n",
              "неоконченное высшее     4557\n",
              "среднее                  559\n",
              "Name: Образование, dtype: int64"
            ]
          },
          "metadata": {},
          "execution_count": 7
        }
      ],
      "source": [
        "def get_education(arg):\n",
        "    \"\"\"[Функция преобразования признака Образование и ВУЗ]\n",
        "\n",
        "    Args:\n",
        "        args ([str]): [На вход получает сождержание признака 'Образование и ВУЗ']\n",
        "\n",
        "    Returns:\n",
        "        [str]: [Возвращает категорию образования]\n",
        "    \"\"\"\n",
        "    arg = ' '.join(arg.split(' ')[:3])\n",
        "    if 'Высшее' in arg:\n",
        "        return 'высшее'\n",
        "    elif 'Неоконченное высшее' in arg:\n",
        "        return 'неоконченное высшее'\n",
        "    elif 'Среднее специальное' in arg:\n",
        "        return 'среднее специальное'\n",
        "    elif 'Среднее образование' in arg:\n",
        "        return 'среднее'\n",
        "\n",
        "        \n",
        "hh_data['Образование'] = hh_data['Образование и ВУЗ'].apply(get_education)\n",
        "hh_data = hh_data.drop('Образование и ВУЗ', axis=1)\n",
        "\n",
        "# Выделяем категориальные признаки\n",
        "hh_data['Образование'] = hh_data['Образование'].astype('category')\n",
        "\n",
        "\n",
        "hh_data['Образование'].value_counts(dropna=False)"
      ]
    },
    {
      "cell_type": "markdown",
      "id": "4266f0b6-1646-492a-88b4-2f6a46502135",
      "metadata": {
        "id": "4266f0b6-1646-492a-88b4-2f6a46502135"
      },
      "source": [
        "2. Теперь нас интересует столбец **\"Пол, возраст\"**. Сейчас он представлен в формате **<Пол , возраст , дата рождения >**. Например:\n",
        "* Мужчина , 39 лет , родился 27 ноября 1979 \n",
        "* Женщина , 21 год , родилась 13 января 2000\n",
        "Как вы понимаете, нам необходимо выделить каждый параметр в отдельный столбец.\n",
        "\n",
        "Создайте два новых признака **\"Пол\"** и **\"Возраст\"**. При этом важно учесть:\n",
        "* Признак пола должен иметь 2 уникальных строковых значения: 'М' - мужчина, 'Ж' - женщина. \n",
        "* Признак возраста должен быть представлен целыми числами.\n",
        "\n",
        "Выполните преобразование, ответьте на контрольные вопросы и удалите признак **\"Пол, возраст\"** из таблицы.\n",
        "\n",
        "*Совет: обратите внимание на структуру текста в столбце, в части на то, как разделены параметры пола, возраста и даты рождения между собой - символом ' , '. \n",
        "Гарантируется, что структура одинакова для всех строк в таблице. Вы можете воспользоваться этим.*\n"
      ]
    },
    {
      "cell_type": "code",
      "execution_count": 8,
      "id": "0c44b350-72eb-4d65-8b54-a1fc449ba9fd",
      "metadata": {
        "colab": {
          "base_uri": "https://localhost:8080/"
        },
        "id": "0c44b350-72eb-4d65-8b54-a1fc449ba9fd",
        "outputId": "0a541d79-3848-4fb8-f7af-1fe2d10c7e3c"
      },
      "outputs": [
        {
          "output_type": "stream",
          "name": "stdout",
          "text": [
            "Распределение резюме % Пол\n",
            "ж    19.07\n",
            "м    80.93\n",
            "Name: Пол, dtype: float64\n",
            "Средний возраст соискателей 32.2\n"
          ]
        }
      ],
      "source": [
        "def get_gender(args):\n",
        "    \"\"\"[Фнкция преобразавания признака Пол]\n",
        "\n",
        "    Args:\n",
        "        args ([str]): [Пол, возраст]\n",
        "\n",
        "    Returns:\n",
        "        [str]: [2 уникальных строковых значения: 'М' - мужчина, 'Ж' - женщина.]\n",
        "    \"\"\"\n",
        "    if 'Мужчина ' in args:\n",
        "        return 'м'\n",
        "    if 'Женщина ' in args:\n",
        "        return 'ж'\n",
        "\n",
        "\n",
        "def get_age(args):\n",
        "    \"\"\"[Фнкция преобразавания признака ВОЗРАСТ]\n",
        "\n",
        "    Args:\n",
        "        args ([str]): [Пол, возраст]\n",
        "\n",
        "    Returns:\n",
        "        [str]: [Возраст]\n",
        "    \"\"\"\n",
        "    splitted_args = args.split(',')\n",
        "    age = splitted_args[1].split(' ')\n",
        "    return age[2]\n",
        "\n",
        "hh_data['Пол'] = hh_data['Пол, возраст'].apply(get_gender)\n",
        "\n",
        "hh_data['Возраст'] = hh_data['Пол, возраст'].apply(get_age) \n",
        "\n",
        "# Преобразуем данные для оптимизации памяти\n",
        "hh_data['Возраст'] = hh_data['Возраст'].astype(np.int8)  \n",
        "\n",
        "percentage_gender = hh_data.groupby('Пол')['Пол'].count().transform(lambda x: x / hh_data.shape[0] * 100)\n",
        "print('Распределение резюме %', round(percentage_gender, 2))\n",
        "print('Средний возраст соискателей', round(hh_data['Возраст'].mean(), 1))\n",
        "\n",
        "# Удаляем ненужный признак\n",
        "hh_data = hh_data.drop('Пол, возраст', axis=1)"
      ]
    },
    {
      "cell_type": "markdown",
      "id": "635c4d5d-f323-4c66-b428-50a088120aa0",
      "metadata": {
        "id": "635c4d5d-f323-4c66-b428-50a088120aa0"
      },
      "source": [
        "3. Следующим этапом преобразуем признак **\"Опыт работы\"**. Его текущий формат - это: **<Опыт работы: n лет m месяцев, периоды работы в различных компаниях…>**. \n",
        "\n",
        "Из столбца нам необходимо выделить общий опыт работы соискателя в месяцах, новый признак назовем \"Опыт работы (месяц)\"\n",
        "\n",
        "Для начала обсудим условия решения задачи:\n",
        "* Во-первых, в данном признаке есть пропуски. Условимся, что если мы встречаем пропуск, оставляем его как есть (функция-преобразование возвращает NaN)\n",
        "* Во-вторых, в данном признаке есть скрытые пропуски. Для некоторых соискателей в столбце стоит значения \"Не указано\". Их тоже обозначим как NaN (функция-преобразование возвращает NaN)\n",
        "* В-третьих, нас не интересует информация, которая описывается после указания опыта работы (периоды работы в различных компаниях)\n",
        "* В-четвертых, у нас есть проблема: опыт работы может быть представлен только в годах или только месяцах. Например, можно встретить следующие варианты:\n",
        "    * Опыт работы 3 года 2 месяца…\n",
        "    * Опыт работы 4 года…\n",
        "    * Опыт работы 11 месяцев…\n",
        "    * Учитывайте эту особенность в вашем коде\n",
        "\n",
        "Учитывайте эту особенность в вашем коде\n",
        "\n",
        "В результате преобразования у вас должен получиться столбец, содержащий информацию о том, сколько месяцев проработал соискатель.\n",
        "Выполните преобразование, ответьте на контрольные вопросы и удалите столбец **\"Опыт работы\"** из таблицы.\n"
      ]
    },
    {
      "cell_type": "code",
      "execution_count": 9,
      "id": "603cdbe4-0ec3-4106-8eaf-c73fcdd29165",
      "metadata": {
        "colab": {
          "base_uri": "https://localhost:8080/"
        },
        "id": "603cdbe4-0ec3-4106-8eaf-c73fcdd29165",
        "outputId": "6a2c458b-418d-4062-d523-ff7f68138561"
      },
      "outputs": [
        {
          "output_type": "stream",
          "name": "stdout",
          "text": [
            "Медианный опыт работы (в месяцах) равен 100\n"
          ]
        }
      ],
      "source": [
        "def get_experience(arg):\n",
        "    \"\"\"[Функция приведения отображения опыта работы к общему показателю в месяцах]\n",
        "\n",
        "    Args:\n",
        "        arg ([str]): [На вход получает значение признака 'Опыт работы']\n",
        "\n",
        "    Returns:\n",
        "        [int]: [Кол-во месяцев]\n",
        "    \"\"\"\n",
        "    if arg == 'Не указано':\n",
        "        return np.nan                               # В соответствии с заданием заполняем там где \"не указано\" NaN\n",
        "    try:\n",
        "        args_splited = arg.split(' ')[:6]\n",
        "        year_key_words = ['лет', 'год', 'года']\n",
        "        month_key_words = ['месяца', 'месяцев', 'месяц']\n",
        "        year = 0\n",
        "        month = 0\n",
        "        for i in range(len(args_splited)):          # Перебираем переданные слова \n",
        "            if args_splited[i] in year_key_words:   # если слово совпадает с ключом\n",
        "                year =  args_splited[i-1]           # Заносим предыдущее перед ним значение в переменную\n",
        "            if args_splited[i] in month_key_words:\n",
        "                month = args_splited[i-1]\n",
        "        return round((int(year)*12) + (int(month)), 0)        \n",
        "    except AttributeError:\n",
        "        hh_data['Опыт работы'].fillna(np.nan)       # Если встречаем данные с которыми нельзя работать заполняем их NaN\n",
        "\n",
        "\n",
        "hh_data['Опыт работы (месяц)'] = hh_data['Опыт работы'].apply(get_experience)\n",
        "hh_data = hh_data.drop('Опыт работы', axis=1)\n",
        "\n",
        "# Чему равен медианный опыт работы (в месяцах) в нашей таблице?\n",
        "print('Медианный опыт работы (в месяцах) равен', round(hh_data['Опыт работы (месяц)'].median()))\n"
      ]
    },
    {
      "cell_type": "markdown",
      "id": "f3fdaec9-5fd3-4260-9cf5-1d7406b628a5",
      "metadata": {
        "id": "f3fdaec9-5fd3-4260-9cf5-1d7406b628a5"
      },
      "source": [
        "4. Хорошо идем! Следующий на очереди признак \"Город, переезд, командировки\". Информация в нем представлена в следующем виде: **<Город , (метро) , готовность к переезду (города для переезда) , готовность к командировкам>**. В скобках указаны необязательные параметры строки. Например, можно встретить следующие варианты:\n",
        "\n",
        "* Москва , не готов к переезду , готов к командировкам\n",
        "* Москва , м. Беломорская , не готов к переезду, не готов к командировкам\n",
        "* Воронеж , готов к переезду (Сочи, Москва, Санкт-Петербург) , готов к командировкам\n",
        "\n",
        "Создадим отдельные признаки **\"Город\"**, **\"Готовность к переезду\"**, **\"Готовность к командировкам\"**. При этом важно учесть:\n",
        "\n",
        "* Признак **\"Город\"** должен содержать только 4 категории: \"Москва\", \"Санкт-Петербург\" и \"город-миллионник\" (их список ниже), остальные обозначьте как \"другие\".\n",
        "\n",
        "    Список городов-миллионников:\n",
        "    \n",
        "   <code>million_cities = ['Новосибирск', 'Екатеринбург','Нижний Новгород','Казань', 'Челябинск','Омск', 'Самара', 'Ростов-на-Дону', 'Уфа', 'Красноярск', 'Пермь', 'Воронеж','Волгоград']\n",
        "    </code>\n",
        "    Инфорация о метро, рядом с которым проживает соискатель нас не интересует.\n",
        "* Признак **\"Готовность к переезду\"** должен иметь два возможных варианта: True или False. Обратите внимание, что возможны несколько вариантов описания готовности к переезду в признаке \"Город, переезд, командировки\". Например:\n",
        "    * … , готов к переезду , …\n",
        "    * … , не готова к переезду , …\n",
        "    * … , готова к переезду (Москва, Санкт-Петербург, Ростов-на-Дону)\n",
        "    * … , хочу переехать (США) , …\n",
        "    \n",
        "    Нас интересует только сам факт возможности или желания переезда.\n",
        "* Признак **\"Готовность к командировкам\"** должен иметь два возможных варианта: True или False. Обратите внимание, что возможны несколько вариантов описания готовности к командировкам в признаке \"Город, переезд, командировки\". Например:\n",
        "    * … , готов к командировкам , … \n",
        "    * … , готова к редким командировкам , …\n",
        "    * … , не готов к командировкам , …\n",
        "    \n",
        "    Нас интересует только сам факт готовности к командировке.\n",
        "    \n",
        "    Еще один важный факт: при выгрузки данных у некоторых соискателей \"потерялась\" информация о готовности к командировкам. Давайте по умолчанию будем считать, что такие соискатели не готовы к командировкам.\n",
        "    \n",
        "Выполните преобразования и удалите столбец **\"Город, переезд, командировки\"** из таблицы.\n",
        "\n",
        "*Совет: обратите внимание на то, что структура текста может меняться в зависимости от указания ближайшего метро. Учите это, если будете использовать порядок слов в своей программе.*\n"
      ]
    },
    {
      "cell_type": "code",
      "execution_count": 10,
      "id": "1ea710ec-871b-431e-9462-c7d0fd87011b",
      "metadata": {
        "colab": {
          "base_uri": "https://localhost:8080/"
        },
        "id": "1ea710ec-871b-431e-9462-c7d0fd87011b",
        "outputId": "bb17bf2d-7d26-4524-c3f7-b06056f15801"
      },
      "outputs": [
        {
          "output_type": "stream",
          "name": "stdout",
          "text": [
            "11 % соискателей живут в Санкт-Петербурге\n",
            "36 % соискателей готовы к переездам\n",
            "32 % соискателей готовы одновременно и к переездам, и к командировкам\n"
          ]
        }
      ],
      "source": [
        "# Список городов-миллионников:\n",
        "million_cities = ['Новосибирск', 'Екатеринбург', 'Нижний Новгород', 'Казань', 'Челябинск', 'Омск', 'Самара', 'Ростов-на-Дону', 'Уфа', 'Красноярск', 'Пермь', 'Воронеж', 'Волгоград' ]\n",
        "\n",
        "\n",
        "def get_citi(args):\n",
        "    \"\"\"[Функция определения категории города]\n",
        "\n",
        "    Args:\n",
        "        args ([str]): [Город, переезд, командировки]\n",
        "\n",
        "    Returns:\n",
        "        [str]: [Возвращает 4 категории: \"Москва\", \"Санкт-Петербург\" и \"город-миллионник\" и \"другие\" ]\n",
        "    \"\"\"\n",
        "    args_splited = args.split(' ')[:1]\n",
        "    if 'Москва' in args_splited:\n",
        "        return 'Москва'\n",
        "    if 'Санкт-Петербург' in args_splited:\n",
        "        return 'Санкт-Петербург'\n",
        "    for i in range(len(args_splited)):\n",
        "        if args_splited[i] in million_cities:\n",
        "            return 'город-миллионник'\n",
        "    else:\n",
        "        return 'другие'\n",
        "\n",
        "\n",
        "hh_data['Город'] = hh_data['Город, переезд, командировки'].apply(get_citi)\n",
        "\n",
        "# Сколько процентов соискателей живут в Санкт-Петербурге?\n",
        "urban_residents = hh_data.groupby('Город')['Город'].count().transform(lambda x: x / hh_data.shape[0] * 100)\n",
        "print(round(urban_residents[1]), '% соискателей живут в Санкт-Петербурге')\n",
        "\n",
        "\n",
        "def ready_to_move(args):\n",
        "    \"\"\"[Функция формирования данных для признака Готовность к переезду]\n",
        "\n",
        "    Args:\n",
        "        args ([str]): [Город, переезд, командировки]\n",
        "\n",
        "    Returns:\n",
        "        [bool]: [готов = True, не готов = False]\n",
        "    \"\"\"\n",
        "    result = None\n",
        "    if ('не готов к переезду' in args) or ('не готова к переезду' in args) or ('не хочу переезжать' in args):\n",
        "        result = False  \n",
        "    else:\n",
        "        result = True\n",
        "    return result\n",
        "\n",
        "\n",
        "hh_data['Готовность к переезду'] = hh_data['Город, переезд, командировки'].apply(ready_to_move)\n",
        "\n",
        "# Сколько процентов соискателей готовы к переездам?\n",
        "percent_to_move = hh_data.groupby('Готовность к переезду')['Готовность к переезду'].count().transform(lambda x: x / hh_data.shape[0] * 100)\n",
        "print(round(percent_to_move[1]), '% соискателей готовы к переездам')\n",
        "\n",
        "\n",
        "# «Готовность к командировкам». \n",
        "def ready_business_trip(args):\n",
        "    \"\"\"[Функция определения данных для признака Готовность к командировкам]\n",
        "\n",
        "    Args:\n",
        "        args ([str]): [Город, переезд, командировки]\n",
        "\n",
        "    Returns:\n",
        "        [bool]: [готов = True, не готов = False]\n",
        "    \"\"\"\n",
        "    list_variants = ['готов к командировкам', 'готова к командировкам', 'готов к редким командировкам', 'готова к редким командировкам']\n",
        "    args_splited = args.split(',')\n",
        "    result = None\n",
        "    for i in range(len(args_splited)):                 # Перебираем переданные слова \n",
        "        if args_splited[i].strip() in list_variants:   # если слово совпадает с ключом\n",
        "            result = True\n",
        "        else:\n",
        "            result = False\n",
        "    return result\n",
        "\n",
        "\n",
        "hh_data['Готовность к командировкам'] = hh_data['Город, переезд, командировки'].apply(ready_business_trip)\n",
        "hh_data = hh_data.drop('Город, переезд, командировки', axis=1)\n",
        "\n",
        "# Выделяем категориальные признаки\n",
        "hh_data['Город'] = hh_data['Город'].astype('category')\n",
        "\n",
        "# Сколько процентов соискателей готовы одновременно и к переездам, и к командировкам?\n",
        "percent_business_trip = round(hh_data[hh_data['Готовность к переезду'] & hh_data['Готовность к командировкам']].shape[0] / hh_data.shape[0] *100)\n",
        "print(round(percent_business_trip), '% соискателей готовы одновременно и к переездам, и к командировкам')"
      ]
    },
    {
      "cell_type": "markdown",
      "id": "0136ffee-0ead-4a6b-b608-61d1c753a438",
      "metadata": {
        "id": "0136ffee-0ead-4a6b-b608-61d1c753a438"
      },
      "source": [
        "5. Рассмотрим поближе признаки **\"Занятость\"** и **\"График\"**. Сейчас признаки представляют собой набор категорий желаемой занятости (полная занятость, частичная занятость, проектная работа, волонтерство, стажировка) и желаемого графика работы (полный день, сменный график, гибкий график, удаленная работа, вахтовый метод).\n",
        "На сайте hh.ru соискатель может указывать различные комбинации данных категорий, например:\n",
        "* полная занятость, частичная занятость\n",
        "* частичная занятость, проектная работа, волонтерство\n",
        "* полный день, удаленная работа\n",
        "* вахтовый метод, гибкий график, удаленная работа, полная занятость\n",
        "\n",
        "Такой вариант признаков имеет множество различных комбинаций, а значит множество уникальных значений, что мешает анализу. Нужно это исправить!\n",
        "\n",
        "Давайте создадим признаки-мигалки для каждой категории: если категория присутствует в списке желаемых соискателем, то в столбце на месте строки рассматриваемого соискателя ставится True, иначе - False.\n",
        "\n",
        "Такой метод преобразования категориальных признаков называется One Hot Encoding и его схема представлена на рисунке ниже:\n",
        "<img src=https://raw.githubusercontent.com/AndreyRysistov/DatasetsForPandas/main/ohe.jpg>\n",
        "Выполните данное преобразование для признаков \"Занятость\" и \"График\", ответьте на контрольные вопросы, после чего удалите их из таблицы"
      ]
    },
    {
      "cell_type": "code",
      "execution_count": 11,
      "id": "5b3a8e79-f7ab-4008-b767-12aea3a205ea",
      "metadata": {
        "colab": {
          "base_uri": "https://localhost:8080/"
        },
        "id": "5b3a8e79-f7ab-4008-b767-12aea3a205ea",
        "outputId": "ec2793fb-ff93-40df-d956-71e842a3936d"
      },
      "outputs": [
        {
          "output_type": "stream",
          "name": "stdout",
          "text": [
            "436 чел. ищут проектную работу или волонтёрство\n",
            "2311 чел. хотят работать вахтовым методом или с гибким графиком\n"
          ]
        }
      ],
      "source": [
        "employments = ['полная занятость', 'частичная занятость',\n",
        "              'проектная работа', 'волонтерство', 'стажировка']\n",
        "charts = ['полный день', 'сменный график', \n",
        "         'гибкий график', 'удаленная работа',\n",
        "         'вахтовый метод']\n",
        "         \n",
        "for employment, chart in zip(employments, charts):\n",
        "    hh_data[employment] = hh_data['Занятость'].apply(lambda x: employment in x)\n",
        "    hh_data[chart] = hh_data['График'].apply(lambda x: chart in x)\n",
        "\n",
        "# Удаляем ненужные столбцы\n",
        "hh_data = hh_data.drop('Занятость', axis=1)\n",
        "hh_data = hh_data.drop('График', axis=1)\n",
        "\n",
        "# Сколько людей ищут проектную работу или волонтёрство (в обоих столбцах стоит True)?\n",
        "print((hh_data[hh_data['проектная работа'] & hh_data['волонтерство']].shape[0]),'чел. ищут проектную работу или волонтёрство')\n",
        "\n",
        "# Сколько людей хотят работать вахтовым методом или с гибким графиком (в обоих столбцах стоит True)?\n",
        "print((hh_data[hh_data['вахтовый метод'] & hh_data['гибкий график']].shape[0]), 'чел. хотят работать вахтовым методом или с гибким графиком')"
      ]
    },
    {
      "cell_type": "markdown",
      "id": "344f123c-b63b-43dd-a8a4-809c1f1bb443",
      "metadata": {
        "id": "344f123c-b63b-43dd-a8a4-809c1f1bb443"
      },
      "source": [
        "6. (2 балла) Наконец, мы добрались до самого главного и самого важного - признака заработной платы **\"ЗП\"**. \n",
        "В чем наша беда? В том, что помимо желаемой заработной платы соискатель указывает валюту, в которой он бы хотел ее получать, например:\n",
        "* 30000 руб.\n",
        "* 50000 грн.\n",
        "* 550 USD\n",
        "\n",
        "Нам бы хотелось видеть заработную плату в единой валюте, например, в рублях. Возникает вопрос, а где взять курс валют по отношению к рублю?\n",
        "\n",
        "На самом деле язык Python имеет в арсенале огромное количество возможностей получения данной информации, от обращения к API Центробанка, до использования специальных библиотек, например pycbrf. Однако, это не тема нашего проекта.\n",
        "\n",
        "Поэтому мы пойдем в лоб: обратимся к специальным интернет-ресурсам для получения данных о курсе в виде текстовых файлов. Например, MDF.RU, данный ресурс позволяет удобно экспортировать данные о курсах различных валют и акций за указанные периоды в виде csv файлов. Мы уже сделали выгрузку курсов валют, которые встречаются в наших данных за период с 29.12.2017 по 05.12.2019. Скачать ее вы можете **на платформе**\n",
        "\n",
        "Создайте новый DataFrame из полученного файла. В полученной таблице нас будут интересовать столбцы:\n",
        "* \"currency\" - наименование валюты в ISO кодировке,\n",
        "* \"date\" - дата, \n",
        "* \"proportion\" - пропорция, \n",
        "* \"close\" - цена закрытия (последний зафиксированный курс валюты на указанный день).\n",
        "\n",
        "\n",
        "Перед вами таблица соответствия наименований иностранных валют в наших данных и их общепринятых сокращений, которые представлены в нашем файле с курсами валют. Пропорция - это число, за сколько единиц валюты указан курс в таблице с курсами. Например, для казахстанского тенге курс на 20.08.2019 составляет 17.197 руб. за 100 тенге, тогда итоговый курс равен - 17.197 / 100 = 0.17197 руб за 1 тенге.\n",
        "Воспользуйтесь этой информацией в ваших преобразованиях.\n",
        "\n",
        "<img src=https://raw.githubusercontent.com/AndreyRysistov/DatasetsForPandas/main/table.jpg>\n",
        "\n",
        "\n",
        "Осталось только понять, откуда брать дату, по которой определяется курс? А вот же она - в признаке **\"Обновление резюме\"**, в нем содержится дата и время, когда соискатель выложил текущий вариант своего резюме. Нас интересует только дата, по ней бы и будем сопоставлять курсы валют.\n",
        "\n",
        "Теперь у нас есть вся необходимая информация для того, чтобы создать признак \"ЗП (руб)\" - заработная плата в рублях.\n",
        "\n",
        "После ответа на контрольные вопросы удалите исходный столбец заработной платы \"ЗП\" и все промежуточные столбцы, если вы их создавали."
      ]
    },
    {
      "cell_type": "markdown",
      "id": "6d794257-61f5-4124-956b-67b92b9391a7",
      "metadata": {
        "tags": [],
        "id": "6d794257-61f5-4124-956b-67b92b9391a7"
      },
      "source": [
        "Итак, давайте обсудим возможный алгоритм преобразования: \n",
        "1. Перевести признак \"Обновление резюме\" из таблицы с резюме в формат datetime и достать из него дату. В тот же формат привести признак \"date\" из таблицы с валютами.\n",
        "2. Выделить из столбца \"ЗП\" сумму желаемой заработной платы и наименование валюты, в которой она исчисляется. Наименование валюты перевести в стандарт ISO согласно с таблицей выше.\n",
        "3. Присоединить к таблице с резюме таблицу с курсами по столбцам с датой и названием валюты (подумайте, какой тип объединения надо выбрать, чтобы в таблице с резюме сохранились данные о заработной плате, изначально представленной в рублях). Значение close для рубля заполнить единицей 1 (курс рубля самого к себе)\n",
        "4. Умножить сумму желаемой заработной платы на присоединенный курс валюты (close) и разделить на пропорцию (обратите внимание на пропуски после объединения в этих столбцах), результат занести в новый столбец \"ЗП (руб)\".\n"
      ]
    },
    {
      "cell_type": "code",
      "source": [
        "# Перевести признак «Обновление резюме» из таблицы с резюме в формат datetime и достать из него дату\n",
        "hh_data['Обновление резюме'] = pd.to_datetime(hh_data['Обновление резюме'])\n",
        "hh_data['Дата'] = hh_data['Обновление резюме'].dt.date\n",
        "hh_data['Дата'] = pd.to_datetime(hh_data['Дата'])\n",
        "\n",
        "# Формирование датасета с курсами валют\n",
        "df_currency = pd.read_csv('https://www.dropbox.com/s/kik91sgee5jhiz6/ExchangeRates.csv?raw=true', sep=',')\n",
        "\n",
        "# Преобразовываем в формат datetime\n",
        "df_currency['date'] = pd.to_datetime(df_currency['date'])              \n",
        "\n",
        "\n",
        "def get_currency(args):\n",
        "    \"\"\"Функция определения наименования валюты в которой зарплата\n",
        "\n",
        "    Args:\n",
        "        args ([str]): [сумма и валюта в которой зарплата]\n",
        "\n",
        "    Returns:\n",
        "        [str]: [абревиатуру валюты]\n",
        "    \"\"\"    \n",
        "    args_splited = args.split(' ')\n",
        "    currency_salary = None\n",
        "    for i in range(len(args_splited)):\n",
        "        if args_splited[i].isalpha():\n",
        "            currency_salary = args_splited[i]\n",
        "        return args_splited[1]\n",
        "\n",
        "\n",
        "# Создаем признак\n",
        "hh_data['Валюта'] = hh_data['ЗП'].apply(get_currency)\n",
        "\n",
        "# Cловарь валют для замены\n",
        "currency_dict = {\n",
        "    'грн.':\t'UAH',\n",
        "    'USD':\t'USD',\n",
        "    'EUR':\t'EUR',\n",
        "    'бел.руб.':\t'BYN',\n",
        "    'KGS':\t'KGS',\n",
        "    'сум':\t'UZS',\n",
        "    'AZN':\t'AZN',\n",
        "    'KZT':\t'KZT',\n",
        "    'руб.':\t'RUB'\n",
        "}\n",
        "\n",
        "# Функция приведение наименования валюты к стандарту ISO\n",
        "hh_data['Валюта'] = hh_data['Валюта'].apply(lambda x: currency_dict[x])\n",
        "\n",
        "\n",
        "def get_salary(args):\n",
        "    \"\"\"Функция отсечения наименования валюты от суммы\n",
        "\n",
        "    Args:\n",
        "        args ([str]): [сумма и абревиатура валюты]\n",
        "\n",
        "    Returns:\n",
        "        [int]: [сумма зарплаты]\n",
        "    \"\"\"\n",
        "    args_splited = args.split(' ')\n",
        "    for i in range(len(args_splited)):\n",
        "        if args_splited[i].isdigit():\n",
        "            salary = int(args_splited[i])\n",
        "        return salary\n",
        "\n",
        "\n",
        "hh_data['ЗП'] = hh_data['ЗП'].apply(get_salary)\n",
        "\n",
        "\n",
        "def rate_in_date(currency, data):\n",
        "    \"\"\"Функция определения курса валюты в запрашиваемый день\n",
        "\n",
        "    Args:\n",
        "        currency ([str]): [код валюты ISO]\n",
        "        data ([datetime]): [дата на которую нужно определить котировку]\n",
        "\n",
        "    Returns:\n",
        "        [float]: [курс валюты]\n",
        "    \"\"\"\n",
        "    currency_rate = None\n",
        "    currency_with_proportion = ['KZT', 'KGS', 'UAH', 'UZS']     # Список валют в которых надо учитывать пропорцию курса\n",
        "    currency_without_proportion = ['USD', 'EUR', 'BYN', 'AZN']  # Список валют где нет необходимости делить на пропорцию\n",
        "    mask_date = (df_currency['date'] == data)                   # Маска для фильтрации по дате\n",
        "    mask_cur = (df_currency['currency'] == currency)            # Маска фильтрации по валюте\n",
        "    \n",
        "    if currency == 'RUB':\n",
        "        currency_rate = 1\n",
        "    \n",
        "    if currency in currency_with_proportion:\n",
        "        currency_rate = float(df_currency[(mask_date)&(mask_cur)]['close']) \\\n",
        "                / int(df_currency[(mask_date)&(mask_cur)]['proportion'])\n",
        "    \n",
        "    if currency in currency_without_proportion:\n",
        "        currency_rate = float(df_currency[(mask_date)&(mask_cur)]['close'])\n",
        "    \n",
        "    return currency_rate\n",
        "\n",
        "\n",
        "def get_salary_rub(args):\n",
        "    \"\"\"Приведение зарплаты к рублю по курсу банка на дату публикации\n",
        "\n",
        "    Args:\n",
        "        args ([str]): [description]\n",
        "\n",
        "    Returns:\n",
        "        [int]: [Сумма в рублях по курсу нацбанка]\n",
        "    \"\"\"\n",
        "    sum = int(args[0]) \n",
        "    data = args[1] \n",
        "    currency = args[2]\n",
        "    rate = rate_in_date(currency, data)\n",
        "    \n",
        "    if currency == 'RUB':\n",
        "        salary = sum\n",
        "    else:\n",
        "        salary = sum*rate # Если валюта не рубль умножаем на курс\n",
        "\n",
        "    return salary\n",
        "    \n",
        "    \n",
        "hh_data['ЗП (руб)'] = hh_data[['ЗП', 'Дата', 'Валюта']].apply(get_salary_rub, axis=1)\n",
        "hh_data = hh_data.drop('ЗП', axis=1)\n",
        "hh_data = hh_data.drop('Валюта', axis=1)\n",
        "hh_data = hh_data.drop('Обновление резюме', axis=1)\n",
        "\n",
        "# Чему равна желаемая медианная заработная плата соискателей в нашей таблице (в рублях)? В ответе укажите целое число тысяч.\n",
        "print(f\"Медианная заработная плата соискателей равна {hh_data['ЗП (руб)'].median()} руб\")"
      ],
      "metadata": {
        "id": "2Cfwdxxx9IUE"
      },
      "id": "2Cfwdxxx9IUE",
      "execution_count": null,
      "outputs": []
    },
    {
      "cell_type": "markdown",
      "id": "7ea20ab6-04a7-40a0-adec-443a0e5a42c3",
      "metadata": {
        "id": "7ea20ab6-04a7-40a0-adec-443a0e5a42c3"
      },
      "source": [
        "# Исследование зависимостей в данных"
      ]
    },
    {
      "cell_type": "markdown",
      "id": "968aed80-74ef-4ffb-b5bf-c65b84e9caea",
      "metadata": {
        "id": "968aed80-74ef-4ffb-b5bf-c65b84e9caea"
      },
      "source": [
        "1. Постройте распределение признака **\"Возраст\"**. Опишите распределение, отвечая на следующие вопросы: чему равна мода распределения, каковы предельные значения признака, в каком примерном интервале находится возраст большинства соискателей? Есть ли аномалии для признака возраста, какие значения вы бы причислили к их числу?\n",
        "*Совет: постройте гистограмму и коробчатую диаграмму рядом.*"
      ]
    },
    {
      "cell_type": "code",
      "source": [
        "fig = plt.figure('Распределение признака \"Возраст\"', figsize=figsize3)\n",
        "fig.subplots_adjust(top=0.8)\n",
        "fig.suptitle('Распределение признака \"Возраст\"', fontsize=18)\n",
        "\n",
        "axes = fig.subplots(1, 2)\n",
        "ax = axes[0]\n",
        "ax1 = axes[1]\n",
        "\n",
        "sns.boxplot(\n",
        "    ax=ax,\n",
        "    data=hh_data,\n",
        "    x='Возраст', \n",
        "    orient='h',                   # Горизонтальная расположение\n",
        "    palette=[colors[0], colors[1]]\n",
        ")\n",
        "ax.set_title('Распределение по возрасту', fontsize=14)\n",
        "\n",
        "# Гистограмма\n",
        "ages_of_clients = hh_data.groupby('Возраст')['Возраст'].count() # Сортируем и считаем каждую группу по возрасту\n",
        "\n",
        "sns.histplot(\n",
        "    ax=ax1,\n",
        "    data=ages_of_clients,\n",
        "    x=\"Возраст\"          \n",
        ")\n",
        "\n",
        "ax1.set_title('Возрастные группы', fontsize=14)\n",
        "ax1.set_xlabel('Возраст', fontsize=12)\n",
        "ax1.set_ylabel('Кол-во чел.', fontsize=12)\n",
        "\n",
        "plt.show()"
      ],
      "metadata": {
        "id": "Fjtkb2Vf_bSL"
      },
      "id": "Fjtkb2Vf_bSL",
      "execution_count": null,
      "outputs": []
    },
    {
      "cell_type": "code",
      "source": [
        "ages_of_clients.info()"
      ],
      "metadata": {
        "id": "Q5KYSRIkWmYD"
      },
      "id": "Q5KYSRIkWmYD",
      "execution_count": null,
      "outputs": []
    },
    {
      "cell_type": "markdown",
      "id": "88967466-5070-4bea-9e71-b3efefdc6e4a",
      "metadata": {
        "id": "88967466-5070-4bea-9e71-b3efefdc6e4a"
      },
      "source": [
        "Выводы по графику \n",
        "----\n",
        "Мода распределения равна 30 годам.\n",
        "Средний возраст соискателей 32 года\n",
        "\n",
        "Предельные значения признака 14 и 100 лет.\n",
        "\n",
        "Чуть больше половины соискателей находится в интервале примерно между 25 и 35 лет.   \n",
        "86% соискателей в возрасте до 40 лет\n",
        "\n",
        "На графике наблюдаются отклонения после 55 лет. В этой возрастной группе  1,42% соискателей.\n",
        "\n",
        "Делать выводы о чистоте данных считаю преждевременным, так как не было иследования медианы опыта работы великовозрастных с соедней группой до 55 лет. \n",
        "Если среднее значение опыта будет превышает соседей, тогда это означает, что пенсионеры в поисках работы, но если же опыт ниже ближайших соседей из группы до 55 лет, тогда данные следует удалить воизбежания искажений в анализе\n"
      ]
    },
    {
      "cell_type": "markdown",
      "id": "68377cfc-b378-43dc-ab7d-1195abf2c515",
      "metadata": {
        "id": "68377cfc-b378-43dc-ab7d-1195abf2c515"
      },
      "source": [
        "2. Постройте распределение признака **\"Опыт работы (месяц)\"**. Опишите данное распределение, отвечая на следующие вопросы: чему равна мода распределения, каковы предельные значения признака, в каком примерном интервале находится опыт работы большинства соискателей? Есть ли аномалии для признака возраста, какие значения вы бы причислили к их числу?\n",
        "*Совет: постройте гистограмму и коробчатую диаграмму рядом.*"
      ]
    },
    {
      "cell_type": "code",
      "execution_count": null,
      "id": "dd7df27a-e3e8-412e-a21a-5d389b71e891",
      "metadata": {
        "id": "dd7df27a-e3e8-412e-a21a-5d389b71e891"
      },
      "outputs": [],
      "source": [
        "fig = plt.figure('Распределение признака \"Опыт работы (месяц)\"', figsize=figsize3)\n",
        "fig.subplots_adjust(top=0.8)\n",
        "fig.suptitle('Распределение признака \"Опыт работы (месяц)\"', fontsize=18)\n",
        "\n",
        "axes = fig.subplots(1, 2)\n",
        "ax = axes[0]\n",
        "ax1 = axes[1]\n",
        "\n",
        "# Усы\n",
        "sns.boxplot(\n",
        "    ax=ax,\n",
        "    data=hh_data,\n",
        "    x='Опыт работы (месяц)', \n",
        "    orient='h',                   # Горизонтальная расположение\n",
        "    palette=[colors[0], colors[1]]\n",
        ")\n",
        "\n",
        "ax.set_xlabel('Опыт в месяцах', fontsize=12)\n",
        "\n",
        "# Гистограмма\n",
        "expirience_of_clients = hh_data.groupby('Опыт работы (месяц)')['Опыт работы (месяц)'].count() # Сортируем и считаем каждую группу по возрасту\n",
        "\n",
        "sns.histplot(\n",
        "    ax=ax1,\n",
        "    data=expirience_of_clients,\n",
        "    x=\"Опыт работы (месяц)\"          \n",
        ")\n",
        "\n",
        "#ax1.set_title('set_title', fontsize=14)\n",
        "ax1.set_xlabel('Опыт в месяцах', fontsize=12)\n",
        "ax1.set_ylabel('Кол-во чел.', fontsize=12)\n",
        "\n",
        "plt.show()\n",
        "\n",
        "# Чему равен максимальный опыт работы (в месяцах)?\n",
        "\n"
      ]
    },
    {
      "cell_type": "markdown",
      "id": "7305c34b-089d-4986-be9f-5fa1c0ee281c",
      "metadata": {
        "id": "7305c34b-089d-4986-be9f-5fa1c0ee281c"
      },
      "source": [
        "Выводы\n",
        "---\n",
        "Мода распределения равна 81 мес.\n",
        "\n",
        "Предельные значения признака 1 и 1188 мес.\n",
        "\n",
        "Опыт работы большинства соискателей находится в интервале между 50 и 150 мес. (53%)\n",
        "Среднее значение 114 мес.\n",
        " \n",
        "Аномалия 1188 мес, но считаю, что прежде чем причислить их к грязным данным, нужно дополнительно исследовать возраст данной группы. Если ему 140, а он бодр и молод, тогда хвалим и всё равно удалить дабы не путал логику программы."
      ]
    },
    {
      "cell_type": "markdown",
      "id": "f2fe0acb-ab1a-4e15-9326-2560e22d73c1",
      "metadata": {
        "id": "f2fe0acb-ab1a-4e15-9326-2560e22d73c1"
      },
      "source": [
        "3. Постройте распределение признака **\"ЗП (руб)\"**. Опишите данное распределение, отвечая на следующие вопросы: каковы предельные значения признака, в каком примерном интервале находится заработная плата большинства соискателей? Есть ли аномалии для признака возраста? Обратите внимание на гигантские размеры желаемой заработной платы.\n",
        "*Совет: постройте гистограмму и коробчатую диаграмму рядом.*\n"
      ]
    },
    {
      "cell_type": "code",
      "execution_count": null,
      "id": "6271f8ad-bd2e-4196-ae4a-5b39c4c1010e",
      "metadata": {
        "id": "6271f8ad-bd2e-4196-ae4a-5b39c4c1010e"
      },
      "outputs": [],
      "source": [
        "fig = plt.figure('Распределение признака \"ЗП (руб)\"', figsize=figsize3)\n",
        "fig.subplots_adjust(top=0.8)\n",
        "fig.suptitle('Распределение признака \"ЗП (руб)\"', fontsize=18)\n",
        "\n",
        "axes = fig.subplots(1, 2)\n",
        "ax = axes[0]\n",
        "ax1 = axes[1]\n",
        "\n",
        "# Усы\n",
        "sns.boxplot(\n",
        "    ax=ax,\n",
        "    data=hh_data,\n",
        "    x='ЗП (руб)', \n",
        "    orient='h',                   # Горизонтальная расположение\n",
        "    palette=[colors[0], colors[1]]\n",
        ")\n",
        "\n",
        "ax.set_xticklabels([f\"{round(x)}млн.\" for x in ax.get_xticks()/1000000])\n",
        "\n",
        "# Гистограмма\n",
        "salary_of_clients = hh_data.groupby(['ЗП (руб)', 'Возраст'])['ЗП (руб)'].count()# Сортируем и считаем каждую группу по возрасту\n",
        "\n",
        "sns.histplot(\n",
        "    ax=ax1,\n",
        "    data=salary_of_clients,\n",
        "    y='Возраст',\n",
        "    x=\"ЗП (руб)\"          \n",
        ")\n",
        "\n",
        "ax1.set_ylabel('Возраст (лет)', fontsize=12)\n",
        "ax1.set_xticklabels([f\"{round(x)}млн.\" for x in ax1.get_xticks()/1000000]) # округление по оси X\n",
        "\n",
        "plt.show()\n",
        "\n",
        "\n",
        "# Cколько соискателей требуют заработную плату выше 1 миллиона рублей.\n",
        "above_million = hh_data[hh_data['ЗП (руб)'] > 1000000].reset_index().count()\n",
        "above_million[1]"
      ]
    },
    {
      "cell_type": "markdown",
      "id": "6c39ca13-225e-48f7-a85c-ab07a6cc852a",
      "metadata": {
        "id": "6c39ca13-225e-48f7-a85c-ab07a6cc852a"
      },
      "source": [
        "Выводы\n",
        "---\n",
        "Предельные значения признака 1 руб. и 24'304'876 руб.\n",
        "\n",
        "Минимальное значение можно объяснить тем, что возможно, соискатели закончили обучение и готовы пойти на практику без должного уровня оплаты. \n",
        "Либо в целях маркетингового хода укали оплату существенно ниже рынка в надежде, что их резюме будет выигрывать в показе по отношению к остальным.\n",
        "\n",
        "Заработная плата большинства соискателей находится в интервале 50'000 - 60'000 руб\n",
        "\n",
        "Пять человек желают зарплату выше 1 млн руб.\n",
        "\n",
        "Есть аномалия для признака \"возраст\" 100 лет"
      ]
    },
    {
      "cell_type": "markdown",
      "id": "eab2206d-d95b-468b-8e5f-34381abf0ce7",
      "metadata": {
        "id": "eab2206d-d95b-468b-8e5f-34381abf0ce7"
      },
      "source": [
        "4. Постройте диаграмму, которая показывает зависимость **медианной** желаемой заработной платы (**\"ЗП (руб)\"**) от уровня образования (**\"Образование\"**). Используйте для диаграммы данные о резюме, где желаемая заработная плата меньше 1 млн рублей.\n",
        "*Сделайте выводы по представленной диаграмме: для каких уровней образования наблюдаются наибольшие и наименьшие уровни желаемой заработной платы? Как вы считаете, важен ли признак уровня образования при прогнозировании заработной платы?*"
      ]
    },
    {
      "cell_type": "code",
      "source": [
        "sorted_salary = hh_data[hh_data['ЗП (руб)'] < 1000000]\n",
        "sorted_salary.groupby('Образование')['ЗП (руб)'].median().plot()"
      ],
      "metadata": {
        "id": "T7kruuqyWb89"
      },
      "id": "T7kruuqyWb89",
      "execution_count": null,
      "outputs": []
    },
    {
      "cell_type": "markdown",
      "id": "dc463319-3f85-47dd-b66e-aecb0be0c76f",
      "metadata": {
        "id": "dc463319-3f85-47dd-b66e-aecb0be0c76f"
      },
      "source": [
        "Выводы\n",
        "---\n",
        "Высшее образование по медианному показателю оплачивается выше всех остальных категорий.\n",
        "\n",
        "Наименьшие уровни желаемой заработной платы наблюдаются в категории среднее и среднеспециальное."
      ]
    },
    {
      "cell_type": "markdown",
      "id": "0112af31-f6b0-4e3b-82ab-71296e752e5e",
      "metadata": {
        "id": "0112af31-f6b0-4e3b-82ab-71296e752e5e"
      },
      "source": [
        "5. Постройте диаграмму, которая показывает распределение желаемой заработной платы (**\"ЗП (руб)\"**) в зависимости от города (**\"Город\"**). Используйте для диаграммы данные о резюме, где желая заработная плата меньше 1 млн рублей.\n",
        "*Сделайте выводы по полученной диаграмме: как соотносятся медианные уровни желаемой заработной платы и их размах в городах? Как вы считаете, важен ли признак города при прогнозировании заработной платы?*"
      ]
    },
    {
      "cell_type": "code",
      "source": [
        "fig = px.box(\n",
        "    sorted_salary,\n",
        "    y='Город',\n",
        "    x='ЗП (руб)',\n",
        "    color='Город',\n",
        "    title='Распределение желаемой заработной платы в зависимости от города',\n",
        "    notched=True,\n",
        "    points=\"all\"\n",
        ")\n",
        "fig.show()"
      ],
      "metadata": {
        "id": "ToHBpYNHKT_-"
      },
      "id": "ToHBpYNHKT_-",
      "execution_count": null,
      "outputs": []
    },
    {
      "cell_type": "markdown",
      "id": "2710ce73-2e81-4e38-b52f-833cd14ba47a",
      "metadata": {
        "tags": [],
        "id": "2710ce73-2e81-4e38-b52f-833cd14ba47a"
      },
      "source": [
        "Выводы\n",
        "---\n",
        "Наибольший показатель желаемой заработной платы (~924 тысячи рублей)зафиксирован в категории городов \"другие\".\n",
        "\n",
        "Медианные уровни желаемой заработной платы вышел в Москве и Санкт-Петербурге, и их размах в этих городах соответственно шире.\n",
        "\n",
        "Считаете, что признак города при прогнозировании заработной платы важен."
      ]
    },
    {
      "cell_type": "markdown",
      "id": "3bfcfdaf-755d-4d2b-8ed8-326201dc07ab",
      "metadata": {
        "id": "3bfcfdaf-755d-4d2b-8ed8-326201dc07ab"
      },
      "source": [
        "6. Постройте **многоуровневую столбчатую диаграмму**, которая показывает зависимость медианной заработной платы (**\"ЗП (руб)\"**) от признаков **\"Готовность к переезду\"** и **\"Готовность к командировкам\"**. Проанализируйте график, сравнив уровень заработной платы в категориях."
      ]
    },
    {
      "cell_type": "code",
      "source": [
        "hh_data.groupby(['Готовность к переезду', 'Готовность к командировкам'])['ЗП (руб)'].median().plot()"
      ],
      "metadata": {
        "id": "C0-gzOGEQOFB"
      },
      "id": "C0-gzOGEQOFB",
      "execution_count": null,
      "outputs": []
    },
    {
      "cell_type": "markdown",
      "source": [
        "Выводы\n",
        "---\n",
        "Медианная заработная плата соискателей, готовых и к переезду, и к командировкам равна 66 тыс.руб.\n",
        "\n",
        "Наибольший уровень ожидаемой зарплаты демонстрирует категория \"Готов к переезду и командировкам\".\n",
        "\n",
        "Наименьший уровень зарплаты наблюдается у категории \"Не готов к переезду и командировкам\".\n",
        "\n",
        "Готовность соискателей к командировкам демонстрирует очевидные более высокие ожидания по зарплате."
      ],
      "metadata": {
        "id": "UeNmZef4bV1j"
      },
      "id": "UeNmZef4bV1j"
    },
    {
      "cell_type": "markdown",
      "id": "7b02bb86-0546-40fb-94a4-242f050a5c57",
      "metadata": {
        "id": "7b02bb86-0546-40fb-94a4-242f050a5c57"
      },
      "source": [
        "7. Постройте сводную таблицу, иллюстрирующую зависимость **медианной** желаемой заработной платы от возраста (**\"Возраст\"**) и образования (**\"Образование\"**). На полученной сводной таблице постройте **тепловую карту**. Проанализируйте тепловую карту, сравнив показатели внутри групп."
      ]
    },
    {
      "cell_type": "code",
      "execution_count": null,
      "id": "5a0e32a4-e68a-4365-8a39-2fe24c542c36",
      "metadata": {
        "id": "5a0e32a4-e68a-4365-8a39-2fe24c542c36"
      },
      "outputs": [],
      "source": [
        "data_pivot_table = pd.pivot_table(hh_data,\n",
        "                                  index='Образование',\n",
        "                                  columns='Возраст',\n",
        "                                  values='ЗП (руб)',\n",
        "                                  aggfunc=np.median)\n",
        "\n",
        "# Тепловая карта  \n",
        "fig = px.imshow(data_pivot_table)\n",
        "fig.show()\n"
      ]
    },
    {
      "cell_type": "markdown",
      "id": "7aade1c2-16a0-418c-8427-ad93927c7705",
      "metadata": {
        "id": "7aade1c2-16a0-418c-8427-ad93927c7705"
      },
      "source": [
        "Выводы\n",
        "---\n",
        "Для категории образования \"высшее\"наблюдается самый быстрый карьерный рост (то есть интенсивность роста заработной платы наибольшая).\n",
        "\n",
        "Чем ниже уровень образования, тем меньше динамика роста уровня заработной платы."
      ]
    },
    {
      "cell_type": "markdown",
      "id": "d0247088-9003-455b-a591-a44650f487c3",
      "metadata": {
        "id": "d0247088-9003-455b-a591-a44650f487c3"
      },
      "source": [
        "8. Постройте **диаграмму рассеяния**, показывающую зависимость опыта работы (**\"Опыт работы (месяц)\"**) от возраста (**\"Возраст\"**). Опыт работы переведите из месяцев в года, чтобы признаки были в едином масштабе. Постройте на графике дополнительно прямую, проходящую через точки (0, 0) и (100, 100). Данная прямая соответствует значениям, когда опыт работы равен возрасту человека. Точки, лежащие на этой прямой и выше нее - аномалии в наших данных (опыт работы больше либо равен возрасту соискателя)"
      ]
    },
    {
      "cell_type": "code",
      "execution_count": null,
      "id": "a4143e50-b900-4ec8-9ae9-fc3ec3347287",
      "metadata": {
        "id": "a4143e50-b900-4ec8-9ae9-fc3ec3347287"
      },
      "outputs": [],
      "source": [
        "# Преобразовываем опыт месяцы в года\n",
        "transformed_expirience = hh_data[['Возраст', 'Опыт работы (месяц)']]\n",
        "transformed_expirience['Опыт работы (месяц)'] = transformed_expirience['Опыт работы (месяц)'].apply(lambda x: x/12)\n",
        "transformed_expirience.rename(columns={'Опыт работы (месяц)': 'Опыт работы (лет)'}, inplace=True)                   # Приводим наименование столбца в соответствие содержанию\n",
        "\n",
        "fig = px.scatter(\n",
        "    transformed_expirience, \n",
        "    x='Возраст', \n",
        "    y='Опыт работы (лет)'\n",
        ")\n",
        "\n",
        "# построить прямую для выявления аномалии\n",
        "fig.add_trace(go.Scatter(x=[0, 100], y=[0, 100],\n",
        "                    mode='lines',\n",
        "                    name='Возраст=Стаж'))\n",
        "\n",
        "fig.show()"
      ]
    },
    {
      "cell_type": "markdown",
      "id": "6f9218ff-52c7-4742-b328-4db5d4da7262",
      "metadata": {
        "id": "6f9218ff-52c7-4742-b328-4db5d4da7262"
      },
      "source": [
        "Выводы \n",
        "---\n",
        "7 точек находятся на линии \"опыт работы равен возрасту человека\" либо выше её - это очевидные аномалии в данных."
      ]
    },
    {
      "cell_type": "markdown",
      "id": "0cc3b0d5-b551-424d-9956-8da18fce17a1",
      "metadata": {
        "id": "0cc3b0d5-b551-424d-9956-8da18fce17a1"
      },
      "source": [
        "**Дополнительные баллы**\n",
        "\n",
        "Для получения 2 дополнительных баллов по разведывательному анализу постройте еще два любых содержательных графика или диаграммы, которые помогут проиллюстрировать влияние признаков/взаимосвязь между признаками/распределения признаков. Приведите выводы по ним. Желательно, чтобы в анализе участвовали признаки, которые мы создавали ранее в разделе \"Преобразование данных\".\n"
      ]
    },
    {
      "cell_type": "code",
      "execution_count": null,
      "id": "e273ec66-b8df-41e5-9b99-bdab93dddd85",
      "metadata": {
        "id": "e273ec66-b8df-41e5-9b99-bdab93dddd85"
      },
      "outputs": [],
      "source": [
        "# ваш код здесь\n",
        "fig = px.scatter(\n",
        "    transformed_expirience, \n",
        "    x='Возраст', \n",
        "    y='Опыт работы (лет)'\n",
        ")\n",
        "\n",
        "# построить прямую для выявления аномалии\n",
        "fig.add_trace(go.Scatter(x=[10, 100], y=[0, 90],\n",
        "                    mode='lines',\n",
        "                    name='Возраст=Стаж'))\n",
        "\n",
        "fig.show()"
      ]
    },
    {
      "cell_type": "markdown",
      "id": "04966e40-3bc3-4dc8-9ba2-e80580ce3abc",
      "metadata": {
        "id": "04966e40-3bc3-4dc8-9ba2-e80580ce3abc"
      },
      "source": [
        "Выводы\n",
        "---\n",
        "Считаю, что линию выявления аномалий необходимо понизить, так как "
      ]
    },
    {
      "cell_type": "markdown",
      "id": "b1ef156a-efcb-49ce-bb23-90763e7f35b2",
      "metadata": {
        "tags": [],
        "id": "b1ef156a-efcb-49ce-bb23-90763e7f35b2"
      },
      "source": [
        "# Очистка данных"
      ]
    },
    {
      "cell_type": "markdown",
      "id": "b9cd50a0-992d-4988-8463-2b2b1c4629b4",
      "metadata": {
        "id": "b9cd50a0-992d-4988-8463-2b2b1c4629b4"
      },
      "source": [
        "1. Начнем с дубликатов в наших данных. Найдите **полные дубликаты** в таблице с резюме и удалите их. "
      ]
    },
    {
      "cell_type": "code",
      "execution_count": null,
      "id": "54ab0e50-c0f1-47cc-a54b-bc5c8bc363f9",
      "metadata": {
        "id": "54ab0e50-c0f1-47cc-a54b-bc5c8bc363f9"
      },
      "outputs": [],
      "source": [
        "# пропуски\n",
        "duplicates = hh_data[hh_data.duplicated()]\n",
        "print('Число дубликтов: {}'.format(duplicates.shape[0]))\n",
        "hh_data = hh_data.drop_duplicates()\n",
        "print('В результате осталось после очистки записей: {}'.format(hh_data.shape[0]))"
      ]
    },
    {
      "cell_type": "markdown",
      "id": "4dea20cb-a36b-474a-a0b9-e08e8e3857a5",
      "metadata": {
        "id": "4dea20cb-a36b-474a-a0b9-e08e8e3857a5"
      },
      "source": [
        "2. Займемся пропусками. Выведите информацию **о числе пропусков** в столбцах. "
      ]
    },
    {
      "cell_type": "code",
      "execution_count": null,
      "id": "9c61b3c0-bb66-46c9-ae1e-81d3f5752b4a",
      "metadata": {
        "id": "9c61b3c0-bb66-46c9-ae1e-81d3f5752b4a"
      },
      "outputs": [],
      "source": [
        "# выводим результирующую долю пропусков\n",
        "cols_nan_percent = hh_data.isna().sum()\n",
        "cols_with_nan = cols_nan_percent[cols_nan_percent > 0].sort_values(ascending=False)\n",
        "cols_with_nan\n",
        "#hh_data[hh_data['Опыт работы (месяц)'].isna() == True].reset_index()\n",
        "#null_data = hh_data.isnull().sum()\n",
        "#display(null_data[null_data > 0])"
      ]
    },
    {
      "cell_type": "markdown",
      "id": "eedceb80-c5ca-480e-b27a-278dfb8b4438",
      "metadata": {
        "id": "eedceb80-c5ca-480e-b27a-278dfb8b4438"
      },
      "source": [
        "3. Итак, у нас есть пропуски в 3ех столбцах: **\"Опыт работы (месяц)\"**, **\"Последнее/нынешнее место работы\"**, **\"Последняя/нынешняя должность\"**. Поступим следующим образом: удалите строки, где есть пропуск в столбцах с местом работы и должностью. Пропуски в столбце с опытом работы заполните **медианным** значением."
      ]
    },
    {
      "cell_type": "code",
      "execution_count": null,
      "id": "69621713-0cc5-4f1b-a1d7-bb144fa6148c",
      "metadata": {
        "id": "69621713-0cc5-4f1b-a1d7-bb144fa6148c"
      },
      "outputs": [],
      "source": [
        "# drop(inplace=True)\n",
        "# fillna(median_value)\n",
        "# Создаю копию данных\n",
        "hh_data_copy = hh_data.copy()\n",
        "\n",
        "# Удаляю строчки с NaN из столбцов \"Последнее/нынешнее место работы\" и \"Последняя/нынешняя должность\"\n",
        "hh_data_copy = hh_data_copy[~((hh_data_copy['Последнее/нынешнее место работы'].isna()) | \n",
        "                  (hh_data_copy['Последняя/нынешняя должность'].isna())\n",
        "                  )]\n",
        "\n",
        "print(f'Найдено {hh_data_copy[\"Опыт работы (месяц)\"].isna().sum()} NAN значений')\n",
        "# Заполняю NaN медианными значениями\n",
        "hh_data_copy = hh_data_copy.fillna(value={'Опыт работы (месяц)': hh_data_copy['Опыт работы (месяц)'].median()})\n",
        "print(f'Осталось {hh_data_copy[\"Опыт работы (месяц)\"].isna().sum()} NAN значений.')\n",
        "print('Результирующее среднее значение Опыт работы (месяц)', round(hh_data_copy['Опыт работы (месяц)'].mean(),0))\n",
        "\n",
        "# Заменяю данных на очищенные\n",
        "hh_data = hh_data_copy.copy()"
      ]
    },
    {
      "cell_type": "markdown",
      "id": "1be1e9c6-37cf-4a5f-bfeb-04cab799dc80",
      "metadata": {
        "id": "1be1e9c6-37cf-4a5f-bfeb-04cab799dc80"
      },
      "source": [
        "4. Мы добрались до ликвидации выбросов. Сначала очистим данные вручную. Удалите резюме, в которых указана заработная плата либо выше 1 млн. рублей, либо ниже 1 тыс. рублей."
      ]
    },
    {
      "cell_type": "code",
      "execution_count": null,
      "id": "0036a355-9ccf-4564-8b01-73d8194297e7",
      "metadata": {
        "id": "0036a355-9ccf-4564-8b01-73d8194297e7"
      },
      "outputs": [],
      "source": [
        "# Сколько выбросов\n",
        "# Cколько соискателей ищут заработную плату выше 1 миллиона рублей.\n",
        "above_million = hh_data[hh_data['ЗП (руб)'] > 1000000].reset_index().count()\n",
        "print(f'Зарплата свыше 1 млн руб. заявлена у {above_million[1]} чел.')\n",
        "\n",
        "# Cколько соискателей указали желаемую зарплату ниже 1 тыс.рублей.\n",
        "below_thousand = hh_data[hh_data['ЗП (руб)'] < 1000].reset_index().count()\n",
        "print(f'Зарплата ниже 1 тыс.руб. заявлена у {below_thousand[1]} чел.')\n",
        "\n",
        "# Удалите резюме, в которых указана заработная плата либо выше 1 млн\n",
        "hh_data = hh_data[~(hh_data['ЗП (руб)'] > 1000000)]\n",
        "\n",
        "# Удалите резюме, в которых указана заработная плата ниже 1 тыс. рублей\n",
        "hh_data = hh_data[~(hh_data['ЗП (руб)'] < 1000)]"
      ]
    },
    {
      "cell_type": "markdown",
      "id": "ec3c8db7-fa21-4a41-a994-1af63742a642",
      "metadata": {
        "id": "ec3c8db7-fa21-4a41-a994-1af63742a642"
      },
      "source": [
        "5. В процессе разведывательного анализа мы обнаружили резюме, в которых **опыт работы в годах превышал возраст соискателя**. Найдите такие резюме и удалите их из данных\n"
      ]
    },
    {
      "cell_type": "code",
      "execution_count": null,
      "id": "949132bc-d5b6-4611-8218-0b9a504d74f4",
      "metadata": {
        "id": "949132bc-d5b6-4611-8218-0b9a504d74f4"
      },
      "outputs": [],
      "source": [
        "# Cколько соискателей имеют опыт превышающий их возраст\n",
        "experience_exceeds_age = hh_data[(hh_data['Опыт работы (месяц)']/12) > hh_data['Возраст']].reset_index().count()\n",
        "print(f'Опыт превышает возраст у {experience_exceeds_age[1]} чел.')\n",
        "\n",
        "# Удалите резюме, в которых опыт превышает возраст\n",
        "hh_data = hh_data[~((hh_data['Опыт работы (месяц)']/12) > hh_data['Возраст'])]\n",
        "                    "
      ]
    },
    {
      "cell_type": "markdown",
      "id": "1041c17a-ca8f-4543-a0ca-32778914fb00",
      "metadata": {
        "id": "1041c17a-ca8f-4543-a0ca-32778914fb00"
      },
      "source": [
        "6. В результате анализа мы обнаружили потенциальные выбросы в признаке **\"Возраст\"**. Это оказались резюме людей чересчур преклонного возраста для поиска работы. Попробуйте построить распределение признака в **логарифмическом масштабе**. Добавьте к графику линии, отображающие **среднее и границы интервала метода трех сигм**. Напомним, сделать это можно с помощью метода axvline. Например, для построение линии среднего будет иметь вид:\n",
        "\n",
        "`histplot.axvline(log_age.mean(), color='k', lw=2)`\n",
        "\n",
        "В какую сторону асимметрично логарифмическое распределение? Напишите об этом в комментарии к графику.\n",
        "Найдите выбросы с помощью метода z-отклонения и удалите их из данных, используйте логарифмический масштаб. Давайте сделаем послабление на **1 сигму** (возьмите 4 сигмы) в **правую сторону**.\n",
        "\n",
        "Выведите таблицу с полученными выбросами и оцените, с каким возрастом соискатели попадают под категорию выбросов?"
      ]
    },
    {
      "cell_type": "code",
      "execution_count": null,
      "id": "6a743d39-5204-48d3-8271-b9f88e68d40e",
      "metadata": {
        "id": "6a743d39-5204-48d3-8271-b9f88e68d40e"
      },
      "outputs": [],
      "source": [
        "#  построить распределение признака в логарифмическом масштабе\n",
        "fig, ax = plt.subplots(1, 1, figsize=(8, 4))\n",
        "log_age = np.log(hh_data['Возраст'] + 1)\n",
        "histplot = sns.histplot(log_age, bins=30, ax=ax)\n",
        "histplot.axvline(log_age.mean(), color='k', lw=2)\n",
        "histplot.axvline(log_age.mean()+4*log_age.std(), color='k', ls='--', lw=2)\n",
        "histplot.axvline(log_age.mean()-3*log_age.std(), color='k', ls='--', lw=2)\n",
        "histplot.set_title('логарифмическое распределение');\n",
        "\n",
        "plt.show()\n",
        "\n",
        "# Найдите выбросы с помощью метода z-отклонения\n",
        "def outliers_z_score(data, feature, left=3, right=3, log_scale=False):\n",
        "    if log_scale:\n",
        "        x = np.log(data[feature]+1)\n",
        "    else:\n",
        "        x = data[feature]\n",
        "    mu = x.mean()\n",
        "    sigma = x.std()\n",
        "    lower_bound = mu - left * sigma\n",
        "    upper_bound = mu + right * sigma\n",
        "    outliers = data[(x < lower_bound) | (x > upper_bound)]\n",
        "    cleaned = data[(x > lower_bound) & (x < upper_bound)]\n",
        "    return outliers, cleaned\n",
        "\n",
        "\n",
        "outliers, cleaned = outliers_z_score(hh_data, 'Возраст', left=3,  right=4, log_scale=False)\n",
        "print(f'Число выбросов по методу z-отклонения: {outliers.shape[0]}')\n",
        "print(f'Результирующее число записей: {cleaned.shape[0]}')"
      ]
    },
    {
      "cell_type": "markdown",
      "id": "6a7892b4-4113-4746-adce-18aa2844f18e",
      "metadata": {
        "id": "6a7892b4-4113-4746-adce-18aa2844f18e"
      },
      "source": [
        "ваш коммментарий здесь"
      ]
    }
  ],
  "metadata": {
    "kernelspec": {
      "display_name": "Python 3 (ipykernel)",
      "language": "python",
      "name": "python3"
    },
    "language_info": {
      "codemirror_mode": {
        "name": "ipython",
        "version": 3
      },
      "file_extension": ".py",
      "mimetype": "text/x-python",
      "name": "python",
      "nbconvert_exporter": "python",
      "pygments_lexer": "ipython3",
      "version": "3.8.8"
    },
    "colab": {
      "name": "Project_1_HH.ipynb",
      "provenance": [],
      "collapsed_sections": []
    }
  },
  "nbformat": 4,
  "nbformat_minor": 5
}